{
 "cells": [
  {
   "cell_type": "code",
   "execution_count": 1,
   "metadata": {
    "ExecuteTime": {
     "end_time": "2021-10-08T08:41:25.609447Z",
     "start_time": "2021-10-08T08:41:21.222372Z"
    },
    "scrolled": true
   },
   "outputs": [
    {
     "name": "stdout",
     "output_type": "stream",
     "text": [
      "(60000, 28, 28)\n",
      "60000\n"
     ]
    }
   ],
   "source": [
    "# 작성일자 : 2021-10-08\n",
    "# 작성자 : 오승엽\n",
    "# 작성목적 : keras practice"
   ]
  },
  {
   "cell_type": "code",
   "execution_count": 25,
   "metadata": {
    "ExecuteTime": {
     "end_time": "2021-10-08T10:50:46.968840Z",
     "start_time": "2021-10-08T10:50:46.751449Z"
    }
   },
   "outputs": [
    {
     "name": "stdout",
     "output_type": "stream",
     "text": [
      "(60000, 28, 28)\n",
      "60000\n",
      "[5 0 4 ... 5 6 8]\n",
      "(10000, 28, 28)\n",
      "10000\n",
      "[7 2 1 ... 4 5 6]\n"
     ]
    }
   ],
   "source": [
    "# Mnist data set 적재\n",
    "\n",
    "from keras.datasets import mnist\n",
    "(train_images, train_labels), (test_images, test_labels)=mnist.load_data()\n",
    "\n",
    "# train_(images,labels)는 모델이 학습해야 할 train set -> 학습용\n",
    "# Model은 test_(images,labels)로 구성된 test set에서 test될 것 -> 예측용\n",
    "\n",
    "print(train_images.shape) #학습용 image \n",
    "print(len(train_labels))# label의 길이 이를 통해 label과 image가 1:1의 관계인걸 알 수 있음\n",
    "\n",
    "# image는 numpy배열로 encoding, label은 0~9까지의 숫자배열\n",
    "# image와 label은 1:1 관계\n",
    "\n",
    "print(train_labels)\n",
    "print(test_images.shape)\n",
    "print(len(test_labels))\n",
    "print(test_labels)\n"
   ]
  },
  {
   "cell_type": "code",
   "execution_count": 18,
   "metadata": {
    "ExecuteTime": {
     "end_time": "2021-10-08T10:49:08.691661Z",
     "start_time": "2021-10-08T10:49:08.683660Z"
    }
   },
   "outputs": [],
   "source": [
    "import matplotlib.pyplot as plt"
   ]
  },
  {
   "cell_type": "code",
   "execution_count": 26,
   "metadata": {
    "ExecuteTime": {
     "end_time": "2021-10-08T10:50:48.826097Z",
     "start_time": "2021-10-08T10:50:48.743320Z"
    }
   },
   "outputs": [
    {
     "data": {
      "image/png": "[encoded data removed]",
      "text/plain": [
       "<Figure size 432x288 with 1 Axes>"
      ]
     },
     "metadata": {
      "needs_background": "light"
     },
     "output_type": "display_data"
    }
   ],
   "source": [
    "digit = train_images[4]\n",
    "\n",
    "plt.imshow(digit, cmap=plt.cm.binary) #image map, 이미지들은 numpy배열로 표현되는데, 이를 통해서 matpltlib로 시각화하여 보여줄 수 있다.\n",
    "plt.show()"
   ]
  },
  {
   "cell_type": "markdown",
   "metadata": {},
   "source": [
    "## 작업순서\n",
    "- 1. 훈련 data set(train_~)을 network에 주입\n",
    "- 2. network는 image와 label을 연관시킬 수 있도록 학습\n",
    "- 3. 예측용 data set(test_~)을 이용하여 network에 요청 -> test_labels와 맞는지 확인"
   ]
  },
  {
   "cell_type": "code",
   "execution_count": 27,
   "metadata": {
    "ExecuteTime": {
     "end_time": "2021-10-08T10:50:50.110419Z",
     "start_time": "2021-10-08T10:50:50.087727Z"
    }
   },
   "outputs": [],
   "source": [
    "# 신경망 구조\n",
    "from keras import models\n",
    "from keras import layers\n",
    "\n",
    "network = models.Sequential()\n",
    "network.add(layers.Dense(512, activation='relu', input_shape=(28*28,)))\n",
    "network.add(layers.Dense(10, activation='softmax'))"
   ]
  },
  {
   "cell_type": "markdown",
   "metadata": {
    "ExecuteTime": {
     "end_time": "2021-10-08T09:01:02.100952Z",
     "start_time": "2021-10-08T09:00:59.743028Z"
    }
   },
   "source": [
    "neural net의 core는 data 처리를 위한 layer<br>\n",
    "특정 data -> layer -> 유용한 형태<br>\n",
    "layer는 주어진 문제에 대해 의미 있는 표현을 입력된 data로부터 추출<br>\n",
    "DL은 정제 필터(layer)가 연속되어 있는 데이터 processing을 위한 여과기<br>\n",
    "\n",
    "이 예에서는 연결된 layer 2개가 있다.<br>\n",
    "(Dense층) 마지막 층은 10개의 확률 점수가 들어 있는 배열(모두 더하면 1)을 반환하는 softmax 층.<br>\n",
    "각 점수가 현재 숫자 이미지가 10개의 숫자 class 중 하나에 속할 확률\n",
    "\n",
    "훈련 준비를 위해 컴파일에 포함될 세 가지\n",
    "- 손실 함수 : 훈련 데이터에서 신경망의 성능을 측정하는 방법으로 네트워크가 옳은 방향으로 학습될 수 있도록 도와 줍니다.\n",
    "- 옵티마이저: 입력된 데이터와 손실 함수를 기반으로 네트워크를 업데이트하는 메커니즘입니다.\n",
    "- 훈련과 테스트 과정을 모니터링할 지표 : 여기에서는 정확도(정확히 분류된 이미지의 비율)만 고려하겠습니다."
   ]
  },
  {
   "cell_type": "code",
   "execution_count": 28,
   "metadata": {
    "ExecuteTime": {
     "end_time": "2021-10-08T10:50:51.454452Z",
     "start_time": "2021-10-08T10:50:51.439478Z"
    }
   },
   "outputs": [],
   "source": [
    "network.compile(optimizer='rmsprop',\n",
    "               loss='categorial_crossentropy',\n",
    "               metrics=['accuracy'])"
   ]
  },
  {
   "cell_type": "markdown",
   "metadata": {},
   "source": [
    "훈련을 시작하기 전에 데이터를 네트워크에 맞는 크기로 바꾸고 모든 값을 0~1 사이로 스케일을 조정. <br>\n",
    "\n",
    "ex, 앞서 우리의 훈련 이미지는 [0, 255] 사이의 값인 uint8 타입의 (60000, 28, 28) 크기를 가진 배열로 저장되어 있습니다.<br> 이 데이터를 0과 1 사이의 값을 가지는 float32 타입의 (60000, 28 * 28) 크기의 배열로 바꿉니다."
   ]
  },
  {
   "cell_type": "code",
   "execution_count": 29,
   "metadata": {
    "ExecuteTime": {
     "end_time": "2021-10-08T10:50:52.527851Z",
     "start_time": "2021-10-08T10:50:52.392214Z"
    }
   },
   "outputs": [],
   "source": [
    "train_images = train_images.reshape((60000, 28 * 28))\n",
    "train_images = train_images.astype('float32') / 255\n",
    "\n",
    "test_images = test_images.reshape((10000, 28 * 28))\n",
    "test_images = test_images.astype('float32') / 255"
   ]
  },
  {
   "cell_type": "markdown",
   "metadata": {},
   "source": [
    "Label range로  encoding "
   ]
  },
  {
   "cell_type": "code",
   "execution_count": 32,
   "metadata": {
    "ExecuteTime": {
     "end_time": "2021-10-08T10:51:32.032423Z",
     "start_time": "2021-10-08T10:51:32.023477Z"
    }
   },
   "outputs": [],
   "source": [
    "from keras.utils.np_utils import to_categorical\n",
    "# from keras.utils import to_categorical -> 변경"
   ]
  },
  {
   "cell_type": "code",
   "execution_count": 33,
   "metadata": {
    "ExecuteTime": {
     "end_time": "2021-10-08T10:51:38.947479Z",
     "start_time": "2021-10-08T10:51:38.935541Z"
    }
   },
   "outputs": [],
   "source": [
    "train_labels = to_categorical(train_labels)\n",
    "test_labels = to_categorical(test_labels)"
   ]
  },
  {
   "cell_type": "markdown",
   "metadata": {},
   "source": [
    "신경망 훈련 준비 완료. \n",
    "케라스에서는 fit method를 통해 훈련 data 모델을 학습시"
   ]
  }
 ],
 "metadata": {
  "kernelspec": {
   "display_name": "Python 3",
   "language": "python",
   "name": "python3"
  },
  "language_info": {
   "codemirror_mode": {
    "name": "ipython",
    "version": 3
   },
   "file_extension": ".py",
   "mimetype": "text/x-python",
   "name": "python",
   "nbconvert_exporter": "python",
   "pygments_lexer": "ipython3",
   "version": "3.7.10"
  }
 },
 "nbformat": 4,
 "nbformat_minor": 2
}
