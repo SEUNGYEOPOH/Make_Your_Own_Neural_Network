{
 "cells": [
  {
   "cell_type": "markdown",
   "id": "6ec300d9",
   "metadata": {},
   "source": [
    "## 간단한 예측자\n",
    "- HUMAN\n",
    "        질문 -> 생각 -> 대답\n",
    "- COMPUTER\n",
    "        INPUT -> CALCULATION -> OUTPUT\n",
    "- COMPUTER_MILE\n",
    "        KM -> CALCULATION -> MILE\n",
    "        KM과 MILE은 선형관계\n",
    "        변환하는 연산 모른다는 가정\n",
    "- MILE = KM X C(상수)<br>\n",
    "C값을 찾는 방법\n",
    "|사례|KM|MILE|\n",
    "|------|---|---|\n",
    "|1|0|0|\n",
    "|2|100|62.137|\n",
    "\n",
    "\n",
    "값을 찾기 위해 임의의 값을 대입<br>\n",
    "### c=0.5<br>\n",
    "100KM -> MILE = 0.5KM -> 50MILE\n",
    "- 실제사례와 12,137만큼 차이\n",
    "       Error=실제 값 - 계산 값 \n",
    "※여기서 우리는 계산 값이 틀렸으며 그 차이를 알 수 있다. <br> 두 값은 선형관계이므로, 상수를 더 증가시키면 결과 값이 더 커짐을 알 수 있음<br>\n",
    "\n",
    "### C=0.6<br>\n",
    "100KM -> 0.6KM -> 60MILE\n",
    "- 개선된 값.(Error 값이 2.137로 확연히 줄음)<br>\n",
    "\n",
    "### C=0.7\n",
    "100KM -> 0.7KM -> 70MILE<br>\n",
    "- Error = -7.863<br>\n",
    "  Overshooting 발생<br>\n",
    "  \n",
    "### C=0.61<br>\n",
    "100KM -> 0.61KM -> 61MILE<br>\n",
    "※ 더 개선된 값 도출 <br>\n",
    "   Error = 1.137\n",
    "## 결론 및 정리\n",
    "\n",
    "이런 쉬운 예시를 통해서 우리는 직전 시도를 기반으로 C값을 조정해나가는 방법을 알게 됨.\n",
    "- 결과 값이 실제 값에 접근한다면(= 오차가 작아지게 되면) 변화를 크게 가져가면 안됨.\n",
    "\n",
    "이러한 과정울 Iteration(반복)이라고 함.\n",
    "\n",
    "        핵심정리\n",
    "        1. 컴퓨터는 입력 -> 연산 -> 출력 Sytsem (인공신경망도 동일)\n",
    "        2. 동작 원리를 파악할 수 없는 경우 조정 가능한 매개변수 값을 포함하는 모델을 만드는 것.\n",
    "        Ex. MILE -> KM Linear Function Model 조정가능한 매개변수 = C\n",
    "        3. 모델을 정교화해나가는 좋은 방법은 오차에 기초해 매개변수를 조정하는 것\n",
    "\n"
   ]
  },
  {
   "cell_type": "code",
   "execution_count": null,
   "id": "7e82fe48",
   "metadata": {},
   "outputs": [],
   "source": []
  }
 ],
 "metadata": {
  "kernelspec": {
   "display_name": "Python 3",
   "language": "python",
   "name": "python3"
  },
  "language_info": {
   "codemirror_mode": {
    "name": "ipython",
    "version": 3
   },
   "file_extension": ".py",
   "mimetype": "text/x-python",
   "name": "python",
   "nbconvert_exporter": "python",
   "pygments_lexer": "ipython3",
   "version": "3.7.10"
  }
 },
 "nbformat": 4,
 "nbformat_minor": 5
}
